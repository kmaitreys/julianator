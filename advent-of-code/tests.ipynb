{
 "cells": [
  {
   "cell_type": "code",
   "execution_count": 3,
   "metadata": {},
   "outputs": [
    {
     "ename": "MethodError",
     "evalue": "MethodError: Cannot `convert` an object of type Float64 to an object of type String\n\nClosest candidates are:\n  convert(::Type{String}, !Matched::String)\n   @ Base essentials.jl:298\n  convert(::Type{T}, !Matched::T) where T<:AbstractString\n   @ Base strings/basic.jl:231\n  convert(::Type{T}, !Matched::AbstractString) where T<:AbstractString\n   @ Base strings/basic.jl:232\n  ...\n",
     "output_type": "error",
     "traceback": [
      "MethodError: Cannot `convert` an object of type Float64 to an object of type String\n",
      "\n",
      "Closest candidates are:\n",
      "  convert(::Type{String}, !Matched::String)\n",
      "   @ Base essentials.jl:298\n",
      "  convert(::Type{T}, !Matched::T) where T<:AbstractString\n",
      "   @ Base strings/basic.jl:231\n",
      "  convert(::Type{T}, !Matched::AbstractString) where T<:AbstractString\n",
      "   @ Base strings/basic.jl:232\n",
      "  ...\n",
      "\n",
      "\n",
      "Stacktrace:\n",
      " [1] setindex!(A::Vector{String}, x::Float64, i1::Int64)\n",
      "   @ Base ./array.jl:969\n",
      " [2] top-level scope\n",
      "   @ ~/Documents/stuff/julianator/advent-of-code/tests.ipynb:9"
     ]
    }
   ],
   "source": [
    "# Example input_data as an array of strings\n",
    "input_data = [\"3.14\", \"2.718\", \"\", \"0.577\"]\n",
    "\n",
    "# In-place conversion of strings to Float64 and empty string replacement with 0.0\n",
    "for i in 1:length(input_data)\n",
    "    if isempty(input_data[i])\n",
    "        input_data[i] = 0.0\n",
    "    else\n",
    "        input_data[i] = parse(Float64, input_data[i])\n",
    "    end\n",
    "end\n",
    "\n",
    "# Now, input_data contains floats with replaced zeros for empty strings\n",
    "println(input_data)\n"
   ]
  },
  {
   "cell_type": "code",
   "execution_count": null,
   "metadata": {},
   "outputs": [],
   "source": []
  }
 ],
 "metadata": {
  "kernelspec": {
   "display_name": "Julia 1.9.3",
   "language": "julia",
   "name": "julia-1.9"
  },
  "language_info": {
   "file_extension": ".jl",
   "mimetype": "application/julia",
   "name": "julia",
   "version": "1.9.3"
  }
 },
 "nbformat": 4,
 "nbformat_minor": 2
}
